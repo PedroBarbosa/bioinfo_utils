{
 "cells": [
  {
   "cell_type": "code",
   "execution_count": 1,
   "metadata": {
    "lines_to_next_cell": 1
   },
   "outputs": [],
   "source": [
    "import argparse\n",
    "import sys\n",
    "import logging\n",
    "logging.basicConfig(stream=sys.stdout, level=logging.INFO, format='%(asctime)s %(message)s')\n",
    "from gtfparse import read_gtf\n",
    "import pandas as pd\n",
    "import numpy as np\n",
    "import matplotlib.pyplot as plt\n",
    "from collections import defaultdict\n",
    "from pyfaidx import Fasta"
   ]
  },
  {
   "cell_type": "code",
   "execution_count": 2,
   "metadata": {},
   "outputs": [],
   "source": [
    "def rank_transcripts(group, ranks):\n",
    "    group['rank_score'] = group['tag'].str.split(\",\").apply(lambda x: sum(list(filter(None.__ne__, list(map(ranks.get, x))))))\n",
    "    max_rank = group[group['rank_score'] == group['rank_score'].max()]\n",
    "    return group.loc[(max_rank['end'] - max_rank['start']).idxmax()]"
   ]
  },
  {
   "cell_type": "code",
   "execution_count": 3,
   "metadata": {},
   "outputs": [],
   "source": [
    "def extract_transcripts(df, biotype):\n",
    "    \"\"\"\n",
    "\n",
    "    :param df:\n",
    "    :param biotype:\n",
    "    :return:\n",
    "    \"\"\"\n",
    "    ranks = defaultdict(lambda: 0,\n",
    "            {'MANE_Select': 10,\n",
    "             'CCDS': 9,\n",
    "             'appris_principal_1': 8,\n",
    "             'appris_principal_2': 7,\n",
    "             'appris_principal_3': 6,\n",
    "             'appris_principal_4': 5,\n",
    "             'appris_principal_5': 4,\n",
    "             'basic': 3,\n",
    "             'appris_alternative_1': 2,\n",
    "             'appris_candidate': 1\n",
    "             }\n",
    "            )\n",
    "\n",
    "    genes = df.loc[(df['gene_type']) == biotype]\n",
    "    logging.info(\"#genes with {} biotype:\\t{}\".format(biotype,genes['gene_id'].nunique()))\n",
    "    ranked_transcripts = genes.loc[(genes['transcript_type'] == biotype) & (genes['feature'] == \"transcript\")].\\\n",
    "        groupby('gene_id').apply(rank_transcripts, ranks)\n",
    "\n",
    "    logging.info(\"#canonical transcripts retrieved (less than the #genes because all transcripts of some genes may lack\"\n",
    "                 \" the biotype {}:\\t{}\".format(biotype, ranked_transcripts.shape[0]))\n",
    "    return ranked_transcripts.set_index('transcript_id', append=True)"
   ]
  },
  {
   "cell_type": "code",
   "execution_count": 4,
   "metadata": {},
   "outputs": [],
   "source": [
    "def retrieve_fasta_sequences(x, ref=None):\n",
    "\n",
    "    if x['strand'] == \"-\":\n",
    "        x['fasta'] = ref[x['seqname']][x['start']:x['end']].reverse.complement.seq\n",
    "    else:\n",
    "        x['fasta'] = ref[x['seqname']][x['start']:x['end']].seq\n",
    "    return x"
   ]
  },
  {
   "cell_type": "code",
   "execution_count": 5,
   "metadata": {},
   "outputs": [],
   "source": [
    "def mask_first_row(x):\n",
    "    result = np.ones_like(x)\n",
    "    result[0] = 0\n",
    "    return result"
   ]
  },
  {
   "cell_type": "code",
   "execution_count": 6,
   "metadata": {},
   "outputs": [],
   "source": [
    "def mask_last_row(x):\n",
    "    result = np.ones_like(x)\n",
    "    result[-1] = 0\n",
    "    return result"
   ]
  },
  {
   "cell_type": "code",
   "execution_count": 7,
   "metadata": {},
   "outputs": [],
   "source": [
    "def get_splice_sites(df, df_transcripts):\n",
    "    \"\"\"\n",
    "    Produces a transformed dataframe containing all the splice sites of canonical transcripts extracted from\n",
    "    exon coordinates, and generates bed files of those.\n",
    "\n",
    "    Intercepts df of the whole GTF file with the df representative of canonical transcripts. This subset is used\n",
    "    for the downstream operations, where first 2 intronic coordinates are retrieved and first/last exons are masked\n",
    "    :param df:\n",
    "    :param df_transcripts:\n",
    "    :return: Dataframe of the exons of canonical transcripts to be used by other methods\n",
    "    \"\"\"\n",
    "\n",
    "    logging.info(\"Extracting splice site coordinates from canonical transcripts..\")\n",
    "    ids = df_transcripts.index.get_level_values('transcript_id').tolist()\n",
    "    exons = df.loc[(df['transcript_id'].isin(ids)) & (df['feature'] == \"exon\")]\n",
    "    exons_to_bed = exons.sort_values(['seqname', 'start', 'end']).copy()\n",
    "\n",
    "   # print(exons_to_bed.groupby(\"transcript_id\").size())\n",
    "   # print(exons_to_bed.loc[(exons['transcript_id'] == \"ENST00000304952.10\")][['transcript_id', 'start', 'end', 'gene_name','exon_number']])\n",
    "    exons_to_bed.loc[:, 'before_start'], exons_to_bed.loc[:, 'after_end'], exons_to_bed.loc[:, 'start'] = \\\n",
    "        exons_to_bed.start - 3, exons_to_bed.end + 2, exons_to_bed.start - 1\n",
    "\n",
    "    start = pd.melt(exons_to_bed, id_vars=[\"seqname\", \"before_start\", \"start\", \"gene_name\", \"exon_number\", \"strand\"],\n",
    "                    value_vars=\"transcript_id\")\n",
    "\n",
    "    mask_start = start.groupby(['value'])['value'].transform(mask_first_row).astype(bool)\n",
    "    start = start.loc[mask_start]\n",
    "    start.columns = [\"chr\", \"start\", \"end\", \"gene\", \"exon_number\", \"strand\", \"group\", \"transcript_id\"]\n",
    "\n",
    "    end = pd.melt(exons_to_bed, id_vars=[\"seqname\", \"end\", \"after_end\", \"gene_name\", \"exon_number\", \"strand\"],\n",
    "                  value_vars=\"transcript_id\")\n",
    "    mask_end = end.groupby(['value'])['value'].transform(mask_last_row).astype(bool)\n",
    "    end = end.loc[mask_end]\n",
    "    end.columns = [\"chr\", \"start\", \"end\", \"gene\", \"exon_number\", \"strand\", \"group\", \"transcript_id\"]\n",
    "\n",
    "    final_bed = pd.concat([start, end], axis=0)\n",
    "    final_bed.sort_values(['chr', 'start', 'end'], inplace=True)\n",
    "    del final_bed['group']\n",
    "    final_bed.to_csv(\"canonical_splice_sites.bed.gz\", compression=\"gzip\", sep=\"\\t\", index=False, header=False)\n",
    "    return final_bed"
   ]
  },
  {
   "cell_type": "code",
   "execution_count": 8,
   "metadata": {},
   "outputs": [],
   "source": [
    "df = pd.read_csv('gencode_v30_pandas_head.txt.gz')"
   ]
  },
  {
   "cell_type": "code",
   "execution_count": 9,
   "metadata": {},
   "outputs": [
    {
     "name": "stdout",
     "output_type": "stream",
     "text": [
      "2019-07-03 13:45:37,855 #genes with protein_coding biotype:\t13\n",
      "2019-07-03 13:45:38,380 #canonical transcripts retrieved (less than the #genes because all transcripts of some genes may lack the biotype protein_coding:\t13\n"
     ]
    }
   ],
   "source": [
    "canonical_transcripts = extract_transcripts(df, \"protein_coding\")"
   ]
  },
  {
   "cell_type": "code",
   "execution_count": 154,
   "metadata": {},
   "outputs": [],
   "source": [
    "def set_class(x):\n",
    "    #arr = np.zeros(len(x['fasta']))\n",
    "    #if positive strand, first splice site is an donor \n",
    "\n",
    "    if x['strand'] == \"+\":\n",
    "        y = np.array([1, 2])\n",
    "        l_y = np.tile(y, len(x['ss_idx']))\n",
    "     \n",
    "    #if negative strand, first splice site is an acceptor, last intron (coordinates based)\n",
    "    elif x['strand'] == \"-\":\n",
    "        y = np.array([2, 1])\n",
    "        l_y = np.tile(y, len(x['ss_idx']))\n",
    "\n",
    "    np.put(x['class'], x['ss_idx'], l_y)\n",
    "    np.put(x['class'], x['ss_idx'] + 1, l_y)\n",
    "    print(x['fasta'][187:190])\n",
    "    print(x['class'][187:190])"
   ]
  },
  {
   "cell_type": "code",
   "execution_count": 165,
   "metadata": {},
   "outputs": [],
   "source": [
    "def get_training_data(transcripts, ss, fastafile):\n",
    "    logging.info(\"Retrieving transcripts sequences\")\n",
    "    ref_genome = Fasta(fastafile)\n",
    "    \n",
    "    #add fasta column to each row of transcripts df\n",
    "    fasta = transcripts.apply(retrieve_fasta_sequences, axis=1, ref=ref_genome)\n",
    "    \n",
    "    #transcripts start coord\n",
    "    transcripts_coord = transcripts['start'].reset_index(level=0, drop=True).to_dict()\n",
    "    \n",
    "    #get exons coord from the beginning of the transcript\n",
    "    ss['idx_start'] = ss['start'] - list(map(transcripts_coord.get, ss['transcript_id']))\n",
    "  \n",
    "    #get idx where ss are within each transcript\n",
    "    per_transcript_start_idx = ss.groupby('transcript_id')['idx_start'].apply(np.hstack)\n",
    "\n",
    "    #merge indexes to fasta df\n",
    "    fasta=fasta.merge(per_transcript_start_idx.rename('ss_idx').to_frame(), left_on=\"transcript_id\", right_index=True)\n",
    "    print(fasta.loc[(\"ENSG00000187634.12\", \"ENST00000342066.8\"),[\"fasta\", \"ss_idx\"]])\n",
    "    print(fasta.loc[(\"ENSG00000187634.12\", \"ENST00000342066.8\"),[\"fasta\"]].str.slice(start=18174, stop=18180))\n",
    "    print(fasta.loc[(\"ENSG00000187634.12\", \"ENST00000342066.8\"),[\"ss_idx\"]][-1])\n",
    "    #create class array filled with zeros\n",
    "    fasta['class'] = fasta['fasta'].apply(lambda x: np.zeros(len(x), dtype=int))\n",
    "    \n",
    "    #set class splice donors (1) and splice acceptor (2)\n",
    "    fasta.apply(set_class, axis =1)\n",
    "    fasta['Y'] = fasta['class'].apply(lambda x: ''.join(map(str,x)))\n",
    "\n",
    "    array = fasta[['fasta','Y']] # turn into array .values.reshape(-1,2)\n",
    "\n",
    "\n",
    "    return array  "
   ]
  },
  {
   "cell_type": "code",
   "execution_count": 166,
   "metadata": {},
   "outputs": [
    {
     "name": "stdout",
     "output_type": "stream",
     "text": [
      "2019-07-03 15:02:55,348 Extracting splice site coordinates from canonical transcripts..\n",
      "CPU times: user 88 ms, sys: 0 ns, total: 88 ms\n",
      "Wall time: 88.9 ms\n"
     ]
    }
   ],
   "source": [
    "%%time\n",
    "canonical_exons = get_splice_sites(df, canonical_transcripts) "
   ]
  },
  {
   "cell_type": "code",
   "execution_count": 192,
   "metadata": {},
   "outputs": [
    {
     "name": "stdout",
     "output_type": "stream",
     "text": [
      "2019-07-03 16:34:45,737 Retrieving transcripts sequences\n",
      "fasta     CAGAGCCCAGCAGATCCCTGCGGCGTTCGCGAGGGTGGGACGGGAA...\n",
      "ss_idx    [69, 188, 282, 4421, 4605, 5305, 5358, 10038, ...\n",
      "Name: (ENSG00000187634.12, ENST00000342066.8), dtype: object\n",
      "fasta    AGGTGG\n",
      "Name: (ENSG00000187634.12, ENST00000342066.8), dtype: object\n",
      "[   69   188   282  4421  4605  5305  5358 10038 10165 13306 13398 13541\n",
      " 13729 15410 15575 16402 16520 16676 16757 16825 17327 17519 17646 17964\n",
      " 18077 18174]\n",
      "ATT\n",
      "[0 0 0]\n",
      "CCC\n",
      "[0 0 0]\n",
      "GAG\n",
      "[0 0 0]\n",
      "CAG\n",
      "[0 2 2]\n",
      "AGC\n",
      "[0 0 0]\n",
      "CCG\n",
      "[0 0 0]\n",
      "GTG\n",
      "[0 0 0]\n",
      "CGC\n",
      "[0 0 0]\n",
      "GCT\n",
      "[0 0 0]\n",
      "AAG\n",
      "[0 0 0]\n",
      "CPU times: user 184 ms, sys: 16 ms, total: 200 ms\n",
      "Wall time: 200 ms\n"
     ]
    }
   ],
   "source": [
    "%%time\n",
    "array = get_training_data(canonical_transcripts, canonical_exons, \"/home/pedro.barbosa/mcfonseca/shared/genomes/human/hg38/GRCh38.primary.genome.fa\")"
   ]
  },
  {
   "cell_type": "code",
   "execution_count": 226,
   "metadata": {},
   "outputs": [
    {
     "name": "stdout",
     "output_type": "stream",
     "text": [
      "gene_id             transcript_id     \n",
      "ENSG00000131591.17  ENST00000421241.6     [[0.0, 0.0, 1.0, 0.0], [0.0, 0.0, 1.0, 0.0], [...\n",
      "ENSG00000187583.10  ENST00000379410.7     [[0.0, 0.0, 1.0, 0.0], [0.0, 0.0, 1.0, 0.0], [...\n",
      "ENSG00000187608.9   ENST00000649529.1     [[0.0, 0.0, 1.0, 0.0], [0.0, 1.0, 0.0, 0.0], [...\n",
      "ENSG00000187634.12  ENST00000342066.8     [[0.0, 1.0, 0.0, 0.0], [1.0, 0.0, 0.0, 0.0], [...\n",
      "ENSG00000187642.9   ENST00000433179.3     [[1.0, 0.0, 0.0, 0.0], [0.0, 0.0, 0.0, 1.0], [...\n",
      "ENSG00000187961.14  ENST00000338591.8     [[0.0, 0.0, 1.0, 0.0], [0.0, 0.0, 1.0, 0.0], [...\n",
      "ENSG00000188157.15  ENST00000379370.7     [[0.0, 0.0, 1.0, 0.0], [0.0, 0.0, 0.0, 1.0], [...\n",
      "ENSG00000188290.10  ENST00000304952.10    [[0.0, 0.0, 1.0, 0.0], [0.0, 0.0, 1.0, 0.0], [...\n",
      "ENSG00000188976.11  ENST00000327044.7     [[0.0, 0.0, 1.0, 0.0], [0.0, 1.0, 0.0, 0.0], [...\n",
      "ENSG00000237330.3   ENST00000453464.3     [[0.0, 0.0, 1.0, 0.0], [0.0, 1.0, 0.0, 0.0], [...\n",
      "Name: fasta, dtype: object\n"
     ]
    }
   ],
   "source": [
    "from sklearn.preprocessing import LabelEncoder, OneHotEncoder\n",
    "from selene_sdk.sequences import Genome\n",
    "# The OneHotEncoder converts an array of integers to a sparse matrix where \n",
    "# each row corresponds to one possible value of each feature.\n",
    "\n",
    "a = array['fasta'].apply(Genome.sequence_to_encoding)\n",
    "print(a)\n",
    "one_hot_encoder = OneHotEncoder(sparse=False)   \n",
    "label_encoder = LabelEncoder()\n",
    "\n",
    "Y = array['Y']\n",
    "label_encoder.fit(Y)\n",
    "# record the label encoder mapping\n",
    "le_name_mapping = dict(zip(label_encoder.classes_, label_encoder.transform(label_encoder.classes_)))\n",
    "y = label_encoder.transform(Y)\n",
    "#print(le_name_mapping)"
   ]
  },
  {
   "cell_type": "code",
   "execution_count": 199,
   "metadata": {},
   "outputs": [
    {
     "ename": "ValueError",
     "evalue": "cannot reshape array of size 1 into shape (2)",
     "output_type": "error",
     "traceback": [
      "\u001b[0;31m---------------------------------------------------------------------------\u001b[0m",
      "\u001b[0;31mValueError\u001b[0m                                Traceback (most recent call last)",
      "\u001b[0;32m<ipython-input-199-1ed49dbbe580>\u001b[0m in \u001b[0;36m<module>\u001b[0;34m\u001b[0m\n\u001b[1;32m      3\u001b[0m \u001b[0mb\u001b[0m \u001b[0;34m=\u001b[0m \u001b[0mnp\u001b[0m\u001b[0;34m.\u001b[0m\u001b[0marray\u001b[0m\u001b[0;34m(\u001b[0m\u001b[0;34m\"0000000000001100000000000000220\"\u001b[0m\u001b[0;34m)\u001b[0m\u001b[0;34m\u001b[0m\u001b[0;34m\u001b[0m\u001b[0m\n\u001b[1;32m      4\u001b[0m \u001b[0;31m#c = np.add(a,b)\u001b[0m\u001b[0;34m\u001b[0m\u001b[0;34m\u001b[0m\u001b[0;34m\u001b[0m\u001b[0m\n\u001b[0;32m----> 5\u001b[0;31m \u001b[0mc\u001b[0m \u001b[0;34m=\u001b[0m \u001b[0ma\u001b[0m\u001b[0;34m.\u001b[0m\u001b[0mreshape\u001b[0m\u001b[0;34m(\u001b[0m\u001b[0;34m-\u001b[0m\u001b[0;36m1\u001b[0m\u001b[0;34m,\u001b[0m\u001b[0;36m2\u001b[0m\u001b[0;34m)\u001b[0m\u001b[0;34m\u001b[0m\u001b[0;34m\u001b[0m\u001b[0m\n\u001b[0m\u001b[1;32m      6\u001b[0m \u001b[0mprint\u001b[0m\u001b[0;34m(\u001b[0m\u001b[0mtype\u001b[0m\u001b[0;34m(\u001b[0m\u001b[0mc\u001b[0m\u001b[0;34m)\u001b[0m\u001b[0;34m)\u001b[0m\u001b[0;34m\u001b[0m\u001b[0;34m\u001b[0m\u001b[0m\n\u001b[1;32m      7\u001b[0m \u001b[0mprint\u001b[0m\u001b[0;34m(\u001b[0m\u001b[0mx\u001b[0m\u001b[0;34m[\u001b[0m\u001b[0;36m1\u001b[0m\u001b[0;34m]\u001b[0m\u001b[0;34m)\u001b[0m\u001b[0;34m\u001b[0m\u001b[0;34m\u001b[0m\u001b[0m\n",
      "\u001b[0;31mValueError\u001b[0m: cannot reshape array of size 1 into shape (2)"
     ]
    }
   ],
   "source": [
    "x = np.arange(12)\n",
    "a = np.array(\"ATGTGACGTCAGTCGACTAGCATGCATGCTA0000000000001100000000000000220\")\n",
    "b = np.array(\"0000000000001100000000000000220\")\n",
    "#c = np.add(a,b)\n",
    "c = a.reshape(-1,2)\n",
    "print(type(c))\n",
    "print(x[1])\n",
    "x.shape = (3,4) \n",
    "print(x)\n",
    "print(x[:,100:105])\n",
    "print(c)"
   ]
  }
 ],
 "metadata": {
  "jupytext": {
   "cell_metadata_filter": "-all",
   "main_language": "python",
   "notebook_metadata_filter": "-all"
  },
  "kernelspec": {
   "display_name": "Python 3",
   "language": "python",
   "name": "python3"
  },
  "language_info": {
   "codemirror_mode": {
    "name": "ipython",
    "version": 3
   },
   "file_extension": ".py",
   "mimetype": "text/x-python",
   "name": "python",
   "nbconvert_exporter": "python",
   "pygments_lexer": "ipython3",
   "version": "3.6.8"
  }
 },
 "nbformat": 4,
 "nbformat_minor": 2
}
